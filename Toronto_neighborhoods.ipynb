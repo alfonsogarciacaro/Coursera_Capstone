{
 "nbformat": 4,
 "nbformat_minor": 2,
 "metadata": {
  "language_info": {
   "name": "python",
   "codemirror_mode": {
    "name": "ipython",
    "version": 3
   },
   "version": "3.6.9"
  },
  "orig_nbformat": 2,
  "file_extension": ".py",
  "mimetype": "text/x-python",
  "name": "python",
  "npconvert_exporter": "python",
  "pygments_lexer": "ipython3",
  "version": 3
 },
 "cells": [
  {
   "cell_type": "markdown",
   "execution_count": null,
   "metadata": {},
   "outputs": [],
   "source": []
  },
  {
   "cell_type": "markdown",
   "execution_count": null,
   "metadata": {},
   "outputs": [],
   "source": [
    "# Segmenting and Clustering Neighborhoods in Toronto"
   ]
  },
  {
   "cell_type": "markdown",
   "execution_count": null,
   "metadata": {},
   "outputs": [],
   "source": [
    "## 1. Processing the data\n",
    "\n",
    "Let's retrieve Toronto's neighborhoods from Wikipedia and convert them into a pandas DataFrame. This can be easily done with pandas' read_html function, though you'll need to install several dependencies for it to work (see below). "
   ]
  },
  {
   "cell_type": "code",
   "execution_count": 1,
   "metadata": {},
   "outputs": [
    {
     "data": {
      "text/html": "<div>\n<style scoped>\n    .dataframe tbody tr th:only-of-type {\n        vertical-align: middle;\n    }\n\n    .dataframe tbody tr th {\n        vertical-align: top;\n    }\n\n    .dataframe thead th {\n        text-align: right;\n    }\n</style>\n<table border=\"1\" class=\"dataframe\">\n  <thead>\n    <tr style=\"text-align: right;\">\n      <th></th>\n      <th>Postcode</th>\n      <th>Borough</th>\n      <th>Neighborhood</th>\n    </tr>\n  </thead>\n  <tbody>\n    <tr>\n      <th>0</th>\n      <td>M1A</td>\n      <td>Not assigned</td>\n      <td>Not assigned</td>\n    </tr>\n    <tr>\n      <th>1</th>\n      <td>M2A</td>\n      <td>Not assigned</td>\n      <td>Not assigned</td>\n    </tr>\n    <tr>\n      <th>2</th>\n      <td>M3A</td>\n      <td>North York</td>\n      <td>Parkwoods</td>\n    </tr>\n    <tr>\n      <th>3</th>\n      <td>M4A</td>\n      <td>North York</td>\n      <td>Victoria Village</td>\n    </tr>\n    <tr>\n      <th>4</th>\n      <td>M5A</td>\n      <td>Downtown Toronto</td>\n      <td>Harbourfront</td>\n    </tr>\n  </tbody>\n</table>\n</div>",
      "text/plain": "  Postcode           Borough      Neighborhood\n0      M1A      Not assigned      Not assigned\n1      M2A      Not assigned      Not assigned\n2      M3A        North York         Parkwoods\n3      M4A        North York  Victoria Village\n4      M5A  Downtown Toronto      Harbourfront"
     },
     "execution_count": 1,
     "metadata": {},
     "output_type": "execute_result"
    }
   ],
   "source": [
    "# If necessary, uncomment the following line and install the dependencies in your system\n",
    "#!pip3 install numpy pandas lxml html5lib bs4 geopy sklearn folium\n",
    "\n",
    "import pandas as pd\n",
    "\n",
    "# This is the URL containing the table with Toronto's neighborhoods\n",
    "# Looking at the page source we realize the table with the desired info\n",
    "# has the class attribute 'wikitable', which will use for identification\n",
    "url = 'https://en.wikipedia.org/wiki/List_of_postal_codes_of_Canada:_M'\n",
    "\n",
    "# Note read_html returns a list. Just pick the first element\n",
    "df = pd.read_html(url, attrs={'class': 'wikitable'})[0]\n",
    "\n",
    "# Check the parsing has been done correctly\n",
    "df.head()"
   ]
  },
  {
   "cell_type": "markdown",
   "execution_count": null,
   "metadata": {},
   "outputs": [],
   "source": [
    "Now let's prepare the data with the following steps:\n",
    "\n",
    "- Ignore cells with a borough that is 'Not assigned'.\n",
    "- If more than one neighborhood exist in one postal code area, combine them into one row with the neighborhoods separated with a comma.\n",
    "- If a cell has a borough but a 'Not assigned' neighborhood, then the neighborhood will be the same as the borough."
   ]
  },
  {
   "cell_type": "code",
   "execution_count": 3,
   "metadata": {},
   "outputs": [],
   "source": [
    "# Drop rows with 'Not assigned' borough\n",
    "not_assigned = df[df['Borough'] == 'Not assigned'].index\n",
    "df.drop(not_assigned, inplace=True)\n",
    "\n",
    "# Group rows with same postal code\n",
    "df = df.groupby('Postcode', as_index=False).aggregate(lambda x: pd.Series(x.unique()).str.cat(sep=', '))\n",
    "\n",
    "# If 'Neighborhood' is not assigned, set it to same value as 'Borough'\n",
    "df.loc[df['Neighborhood'] == 'Not assigned','Neighborhood'] = df['Borough']"
   ]
  },
  {
   "cell_type": "markdown",
   "execution_count": null,
   "metadata": {},
   "outputs": [],
   "source": [
    "Display the shape of the final result and the first rows."
   ]
  },
  {
   "cell_type": "code",
   "execution_count": 4,
   "metadata": {},
   "outputs": [
    {
     "name": "stdout",
     "output_type": "stream",
     "text": "(103, 3)\n"
    },
    {
     "data": {
      "text/html": "<div>\n<style scoped>\n    .dataframe tbody tr th:only-of-type {\n        vertical-align: middle;\n    }\n\n    .dataframe tbody tr th {\n        vertical-align: top;\n    }\n\n    .dataframe thead th {\n        text-align: right;\n    }\n</style>\n<table border=\"1\" class=\"dataframe\">\n  <thead>\n    <tr style=\"text-align: right;\">\n      <th></th>\n      <th>Postcode</th>\n      <th>Borough</th>\n      <th>Neighborhood</th>\n    </tr>\n  </thead>\n  <tbody>\n    <tr>\n      <th>0</th>\n      <td>M1B</td>\n      <td>Scarborough</td>\n      <td>Rouge, Malvern</td>\n    </tr>\n    <tr>\n      <th>1</th>\n      <td>M1C</td>\n      <td>Scarborough</td>\n      <td>Highland Creek, Rouge Hill, Port Union</td>\n    </tr>\n    <tr>\n      <th>2</th>\n      <td>M1E</td>\n      <td>Scarborough</td>\n      <td>Guildwood, Morningside, West Hill</td>\n    </tr>\n    <tr>\n      <th>3</th>\n      <td>M1G</td>\n      <td>Scarborough</td>\n      <td>Woburn</td>\n    </tr>\n    <tr>\n      <th>4</th>\n      <td>M1H</td>\n      <td>Scarborough</td>\n      <td>Cedarbrae</td>\n    </tr>\n  </tbody>\n</table>\n</div>",
      "text/plain": "  Postcode      Borough                            Neighborhood\n0      M1B  Scarborough                          Rouge, Malvern\n1      M1C  Scarborough  Highland Creek, Rouge Hill, Port Union\n2      M1E  Scarborough       Guildwood, Morningside, West Hill\n3      M1G  Scarborough                                  Woburn\n4      M1H  Scarborough                               Cedarbrae"
     },
     "execution_count": 4,
     "metadata": {},
     "output_type": "execute_result"
    }
   ],
   "source": [
    "print(df.shape)\n",
    "df.head()"
   ]
  },
  {
   "cell_type": "markdown",
   "execution_count": null,
   "metadata": {},
   "outputs": [],
   "source": [
    "## 2. Get Geocode data for neighborhoods\n",
    "\n",
    "In order to make requests to Foursquare API and add the markers to the map, we need to know the latitude and longitude of each neighborhood. There are several approaches to do this. The instructions for the assignment recommend to use the [geocoder](https://geocoder.readthedocs.io/) package, however I couldn't get any result even after 100 attempts so I discarded it. I then tried with [geopy](https://geopy.readthedocs.io/en/stable/) which did offer some results but for many postal codes I still didn't get any data. At the end, I used the [Google Geocode API](https://github.com/googlemaps/google-maps-services-python), for which I could luckily benefit of a trial period."
   ]
  },
  {
   "cell_type": "markdown",
   "execution_count": null,
   "metadata": {},
   "outputs": [],
   "source": [
    "Just for illustration purposes, this is the code for geocoder, which unfortunately didn't work for me (you don't need to run the cell)."
   ]
  },
  {
   "cell_type": "code",
   "execution_count": 5,
   "metadata": {},
   "outputs": [],
   "source": [
    "import geocoder # import geocoder\n",
    "\n",
    "def get_lat_lng1(postal_code, max_attempts=100):\n",
    "    lat_lng_coords = None\n",
    "    attempts = 0\n",
    "\n",
    "    # loop until you get the coordinates\n",
    "    while(lat_lng_coords is None and attempts < max_attempts):\n",
    "        attempts += 1\n",
    "        loc = '{}, Toronto, Ontario'.format(postal_code)\n",
    "        print('#{}: Getting latitude and longitude for {}'.format(attempts, loc))\n",
    "        g = geocoder.google('{}, Toronto, Ontario'.format(postal_code))\n",
    "        lat_lng_coords = g.latlng\n",
    "\n",
    "    return lat_lng_coords"
   ]
  },
  {
   "cell_type": "markdown",
   "execution_count": null,
   "metadata": {},
   "outputs": [],
   "source": [
    "And this is the code for geopy, which only offered data for some postal codes (this cell doesn't have to be run either)."
   ]
  },
  {
   "cell_type": "code",
   "execution_count": null,
   "metadata": {},
   "outputs": [],
   "source": [
    "from geopy.geocoders import Nominatim\n",
    "import time\n",
    "\n",
    "geolocator = Nominatim(user_agent=\"toronto_explorer\")\n",
    "\n",
    "def get_lat_lng(postal_code):\n",
    "    # The API fails when making too many requests so wait a bit in between\n",
    "    time.sleep(2)\n",
    "    loc = '{}, Toronto, Ontario'.format(postal_code)\n",
    "    data = geolocator.geocode(loc)\n",
    "    if data is None:\n",
    "        print(\"No data found for {}\".format(loc))\n",
    "        return None\n",
    "    else:\n",
    "        print(\"{}: {}, {}\".format(loc, data.latitude, data.longitude))\n",
    "        return (data.latitude, data.longitude)"
   ]
  },
  {
   "cell_type": "markdown",
   "execution_count": null,
   "metadata": {},
   "outputs": [],
   "source": [
    "Finally, this is the code for Google Geocoding. It requires an API key which is stored in JSON file that is not committed to the repository. In order to make the code easily reproducible in other systems, I've already stored the results in a JSON file."
   ]
  },
  {
   "cell_type": "code",
   "execution_count": 7,
   "metadata": {},
   "outputs": [],
   "source": [
    "import json\n",
    "import googlemaps\n",
    "\n",
    "def read_json(file_name):\n",
    "    with open(file_name) as json_file:\n",
    "        return json.load(json_file)\n",
    "\n",
    "def write_json(file_name, data):\n",
    "    with open(file_name, 'w') as json_file:\n",
    "        json.dump(data, json_file)\n",
    "\n",
    "credentials = read_json('credentials.json')\n",
    "\n",
    "gmaps = googlemaps.Client(key=credentials[\"GOOGLE_API_KEY\"])\n",
    "\n",
    "def get_lat_lng(postal_code):\n",
    "    loc = '{}, Toronto, Ontario'.format(postal_code)\n",
    "    results = gmaps.geocode(loc)\n",
    "    location_data = results[0][\"geometry\"][\"location\"]\n",
    "    return (location_data[\"lat\"], location_data[\"lng\"])\n",
    "\n",
    "# Instead of calling the API, let's load values already fetched.\n",
    "# ll = list(map(get_lat_lng, df['Postcode'].values))\n",
    "\n",
    "ll = read_json('geocode_ll.json')\n"
   ]
  },
  {
   "cell_type": "markdown",
   "execution_count": null,
   "metadata": {},
   "outputs": [],
   "source": [
    "Now we can use the data to add the 'Latitude' and 'Longitude' columns to our DataFrame."
   ]
  },
  {
   "cell_type": "code",
   "execution_count": 8,
   "metadata": {},
   "outputs": [
    {
     "data": {
      "text/html": "<div>\n<style scoped>\n    .dataframe tbody tr th:only-of-type {\n        vertical-align: middle;\n    }\n\n    .dataframe tbody tr th {\n        vertical-align: top;\n    }\n\n    .dataframe thead th {\n        text-align: right;\n    }\n</style>\n<table border=\"1\" class=\"dataframe\">\n  <thead>\n    <tr style=\"text-align: right;\">\n      <th></th>\n      <th>Postcode</th>\n      <th>Borough</th>\n      <th>Neighborhood</th>\n      <th>Latitude</th>\n      <th>Longitude</th>\n    </tr>\n  </thead>\n  <tbody>\n    <tr>\n      <th>0</th>\n      <td>M1B</td>\n      <td>Scarborough</td>\n      <td>Rouge, Malvern</td>\n      <td>43.806686</td>\n      <td>-79.194353</td>\n    </tr>\n    <tr>\n      <th>1</th>\n      <td>M1C</td>\n      <td>Scarborough</td>\n      <td>Highland Creek, Rouge Hill, Port Union</td>\n      <td>43.784535</td>\n      <td>-79.160497</td>\n    </tr>\n    <tr>\n      <th>2</th>\n      <td>M1E</td>\n      <td>Scarborough</td>\n      <td>Guildwood, Morningside, West Hill</td>\n      <td>43.763573</td>\n      <td>-79.188711</td>\n    </tr>\n    <tr>\n      <th>3</th>\n      <td>M1G</td>\n      <td>Scarborough</td>\n      <td>Woburn</td>\n      <td>43.770992</td>\n      <td>-79.216917</td>\n    </tr>\n    <tr>\n      <th>4</th>\n      <td>M1H</td>\n      <td>Scarborough</td>\n      <td>Cedarbrae</td>\n      <td>43.773136</td>\n      <td>-79.239476</td>\n    </tr>\n  </tbody>\n</table>\n</div>",
      "text/plain": "  Postcode      Borough                            Neighborhood   Latitude  \\\n0      M1B  Scarborough                          Rouge, Malvern  43.806686   \n1      M1C  Scarborough  Highland Creek, Rouge Hill, Port Union  43.784535   \n2      M1E  Scarborough       Guildwood, Morningside, West Hill  43.763573   \n3      M1G  Scarborough                                  Woburn  43.770992   \n4      M1H  Scarborough                               Cedarbrae  43.773136   \n\n   Longitude  \n0 -79.194353  \n1 -79.160497  \n2 -79.188711  \n3 -79.216917  \n4 -79.239476  "
     },
     "execution_count": 8,
     "metadata": {},
     "output_type": "execute_result"
    }
   ],
   "source": [
    "df['Latitude'] = [ll[postcode][0] for postcode in df['Postcode'].values]\n",
    "df['Longitude'] = [ll[postcode][1] for postcode in df['Postcode'].values]\n",
    "df.head()"
   ]
  },
  {
   "cell_type": "markdown",
   "execution_count": null,
   "metadata": {},
   "outputs": [],
   "source": [
    "## 3. Explore the data\n",
    "\n",
    "Now we can use the location data to explore the venues in each neighborhood with the [Foursquare API](https://developer.foursquare.com/). We'll start by defining a function to build the appropiate URL and put the results into a pandas DataFrame. By default we are going to search only for venues serving food."
   ]
  },
  {
   "cell_type": "code",
   "execution_count": 10,
   "metadata": {},
   "outputs": [],
   "source": [
    "CLIENT_ID = credentials[\"FOURSQUARE_CLIENT_ID\"]\n",
    "CLIENT_SECRET = credentials[\"FOURSQUARE_CLIENT_SECRET\"]\n",
    "VERSION = '20180605'\n",
    "\n",
    "import requests\n",
    "\n",
    "def explore_nearby_venues(names, latitudes, longitudes, section=\"food\", radius=500, limit=100):\n",
    "    \n",
    "    venues_list=[]\n",
    "    for name, lat, lng in zip(names, latitudes, longitudes):\n",
    "        # create the API request URL\n",
    "        url = 'https://api.foursquare.com/v2/venues/explore?&client_id={}&client_secret={}&v={}&ll={},{}&section={}&radius={}&limit={}'.format(\n",
    "            CLIENT_ID, \n",
    "            CLIENT_SECRET, \n",
    "            VERSION, \n",
    "            lat, \n",
    "            lng,\n",
    "            section, \n",
    "            radius, \n",
    "            limit)\n",
    "            \n",
    "        # make the GET request\n",
    "        response = requests.get(url).json()[\"response\"][\"groups\"][0][\"items\"]\n",
    "        # write_json('tmp.json', response)\n",
    "\n",
    "        # return only relevant information for each nearby venue\n",
    "        venues_list.append([(\n",
    "            name, \n",
    "            lat, \n",
    "            lng, \n",
    "            v['venue']['name'], \n",
    "            v['venue']['location']['lat'], \n",
    "            v['venue']['location']['lng'],  \n",
    "            v['venue']['categories'][0]['name']) for v in response])\n",
    "\n",
    "    nearby_venues = pd.DataFrame([item for venue_list in venues_list for item in venue_list])\n",
    "    nearby_venues.columns = ['Neighborhood', \n",
    "                  'Neighborhood Latitude', \n",
    "                  'Neighborhood Longitude', \n",
    "                  'Venue', \n",
    "                  'Venue Latitude', \n",
    "                  'Venue Longitude', \n",
    "                  'Venue Category']\n",
    "    \n",
    "    return(nearby_venues)"
   ]
  },
  {
   "cell_type": "markdown",
   "execution_count": null,
   "metadata": {},
   "outputs": [],
   "source": [
    "Before calling this function, let's focus only on a fractio of the boroughs (those containing the word 'Toronto') to avoid making too many calls to the API."
   ]
  },
  {
   "cell_type": "code",
   "execution_count": 11,
   "metadata": {},
   "outputs": [
    {
     "data": {
      "text/html": "<div>\n<style scoped>\n    .dataframe tbody tr th:only-of-type {\n        vertical-align: middle;\n    }\n\n    .dataframe tbody tr th {\n        vertical-align: top;\n    }\n\n    .dataframe thead th {\n        text-align: right;\n    }\n</style>\n<table border=\"1\" class=\"dataframe\">\n  <thead>\n    <tr style=\"text-align: right;\">\n      <th></th>\n      <th>Neighborhood</th>\n      <th>Neighborhood Latitude</th>\n      <th>Neighborhood Longitude</th>\n      <th>Venue</th>\n      <th>Venue Latitude</th>\n      <th>Venue Longitude</th>\n      <th>Venue Category</th>\n    </tr>\n  </thead>\n  <tbody>\n    <tr>\n      <th>0</th>\n      <td>The Beaches</td>\n      <td>43.676357</td>\n      <td>-79.293031</td>\n      <td>Domino's Pizza</td>\n      <td>43.679058</td>\n      <td>-79.297382</td>\n      <td>Pizza Place</td>\n    </tr>\n    <tr>\n      <th>1</th>\n      <td>The Beaches</td>\n      <td>43.676357</td>\n      <td>-79.293031</td>\n      <td>Fearless Meat</td>\n      <td>43.680337</td>\n      <td>-79.290289</td>\n      <td>Burger Joint</td>\n    </tr>\n    <tr>\n      <th>2</th>\n      <td>The Beaches</td>\n      <td>43.676357</td>\n      <td>-79.293031</td>\n      <td>Seaspray Restaurant</td>\n      <td>43.678888</td>\n      <td>-79.298167</td>\n      <td>Asian Restaurant</td>\n    </tr>\n    <tr>\n      <th>3</th>\n      <td>The Danforth West, Riverdale</td>\n      <td>43.679557</td>\n      <td>-79.352188</td>\n      <td>Pantheon</td>\n      <td>43.677621</td>\n      <td>-79.351434</td>\n      <td>Greek Restaurant</td>\n    </tr>\n    <tr>\n      <th>4</th>\n      <td>The Danforth West, Riverdale</td>\n      <td>43.679557</td>\n      <td>-79.352188</td>\n      <td>Cafe Fiorentina</td>\n      <td>43.677743</td>\n      <td>-79.350115</td>\n      <td>Italian Restaurant</td>\n    </tr>\n  </tbody>\n</table>\n</div>",
      "text/plain": "                   Neighborhood  Neighborhood Latitude  \\\n0                   The Beaches              43.676357   \n1                   The Beaches              43.676357   \n2                   The Beaches              43.676357   \n3  The Danforth West, Riverdale              43.679557   \n4  The Danforth West, Riverdale              43.679557   \n\n   Neighborhood Longitude                Venue  Venue Latitude  \\\n0              -79.293031       Domino's Pizza       43.679058   \n1              -79.293031        Fearless Meat       43.680337   \n2              -79.293031  Seaspray Restaurant       43.678888   \n3              -79.352188             Pantheon       43.677621   \n4              -79.352188      Cafe Fiorentina       43.677743   \n\n   Venue Longitude      Venue Category  \n0       -79.297382         Pizza Place  \n1       -79.290289        Burger Joint  \n2       -79.298167    Asian Restaurant  \n3       -79.351434    Greek Restaurant  \n4       -79.350115  Italian Restaurant  "
     },
     "execution_count": 11,
     "metadata": {},
     "output_type": "execute_result"
    }
   ],
   "source": [
    "toronto_data = df.loc[df['Borough'].str.contains(\"Toronto\")].reset_index(drop=True)\n",
    "\n",
    "toronto_venues = explore_nearby_venues(\n",
    "    names=toronto_data['Neighborhood'],\n",
    "    latitudes=toronto_data['Latitude'],\n",
    "    longitudes=toronto_data['Longitude'],\n",
    ")\n",
    "\n",
    "toronto_venues.head()"
   ]
  },
  {
   "cell_type": "markdown",
   "execution_count": null,
   "metadata": {},
   "outputs": [],
   "source": [
    "We want to check now which categories are more popular in each neighborhood. But we cannot apply numerical methods like `.mean()` to a categorical variable. To overcome this we'll use \"hot-encoding\": create one column per unique category and set the rows matching that category to one, and all the others to zero. This can be easily done thanks to pandas' `get_dummies` function."
   ]
  },
  {
   "cell_type": "code",
   "execution_count": 12,
   "metadata": {},
   "outputs": [
    {
     "data": {
      "text/html": "<div>\n<style scoped>\n    .dataframe tbody tr th:only-of-type {\n        vertical-align: middle;\n    }\n\n    .dataframe tbody tr th {\n        vertical-align: top;\n    }\n\n    .dataframe thead th {\n        text-align: right;\n    }\n</style>\n<table border=\"1\" class=\"dataframe\">\n  <thead>\n    <tr style=\"text-align: right;\">\n      <th></th>\n      <th>Neighborhood</th>\n      <th>Afghan Restaurant</th>\n      <th>American Restaurant</th>\n      <th>Arepa Restaurant</th>\n      <th>Argentinian Restaurant</th>\n      <th>Asian Restaurant</th>\n      <th>BBQ Joint</th>\n      <th>Bagel Shop</th>\n      <th>Bakery</th>\n      <th>Belgian Restaurant</th>\n      <th>...</th>\n      <th>Steakhouse</th>\n      <th>Sushi Restaurant</th>\n      <th>Taco Place</th>\n      <th>Taiwanese Restaurant</th>\n      <th>Tapas Restaurant</th>\n      <th>Thai Restaurant</th>\n      <th>Theme Restaurant</th>\n      <th>Vegetarian / Vegan Restaurant</th>\n      <th>Vietnamese Restaurant</th>\n      <th>Wings Joint</th>\n    </tr>\n  </thead>\n  <tbody>\n    <tr>\n      <th>0</th>\n      <td>The Beaches</td>\n      <td>0</td>\n      <td>0</td>\n      <td>0</td>\n      <td>0</td>\n      <td>0</td>\n      <td>0</td>\n      <td>0</td>\n      <td>0</td>\n      <td>0</td>\n      <td>...</td>\n      <td>0</td>\n      <td>0</td>\n      <td>0</td>\n      <td>0</td>\n      <td>0</td>\n      <td>0</td>\n      <td>0</td>\n      <td>0</td>\n      <td>0</td>\n      <td>0</td>\n    </tr>\n    <tr>\n      <th>1</th>\n      <td>The Beaches</td>\n      <td>0</td>\n      <td>0</td>\n      <td>0</td>\n      <td>0</td>\n      <td>0</td>\n      <td>0</td>\n      <td>0</td>\n      <td>0</td>\n      <td>0</td>\n      <td>...</td>\n      <td>0</td>\n      <td>0</td>\n      <td>0</td>\n      <td>0</td>\n      <td>0</td>\n      <td>0</td>\n      <td>0</td>\n      <td>0</td>\n      <td>0</td>\n      <td>0</td>\n    </tr>\n    <tr>\n      <th>2</th>\n      <td>The Beaches</td>\n      <td>0</td>\n      <td>0</td>\n      <td>0</td>\n      <td>0</td>\n      <td>1</td>\n      <td>0</td>\n      <td>0</td>\n      <td>0</td>\n      <td>0</td>\n      <td>...</td>\n      <td>0</td>\n      <td>0</td>\n      <td>0</td>\n      <td>0</td>\n      <td>0</td>\n      <td>0</td>\n      <td>0</td>\n      <td>0</td>\n      <td>0</td>\n      <td>0</td>\n    </tr>\n    <tr>\n      <th>3</th>\n      <td>The Danforth West, Riverdale</td>\n      <td>0</td>\n      <td>0</td>\n      <td>0</td>\n      <td>0</td>\n      <td>0</td>\n      <td>0</td>\n      <td>0</td>\n      <td>0</td>\n      <td>0</td>\n      <td>...</td>\n      <td>0</td>\n      <td>0</td>\n      <td>0</td>\n      <td>0</td>\n      <td>0</td>\n      <td>0</td>\n      <td>0</td>\n      <td>0</td>\n      <td>0</td>\n      <td>0</td>\n    </tr>\n    <tr>\n      <th>4</th>\n      <td>The Danforth West, Riverdale</td>\n      <td>0</td>\n      <td>0</td>\n      <td>0</td>\n      <td>0</td>\n      <td>0</td>\n      <td>0</td>\n      <td>0</td>\n      <td>0</td>\n      <td>0</td>\n      <td>...</td>\n      <td>0</td>\n      <td>0</td>\n      <td>0</td>\n      <td>0</td>\n      <td>0</td>\n      <td>0</td>\n      <td>0</td>\n      <td>0</td>\n      <td>0</td>\n      <td>0</td>\n    </tr>\n  </tbody>\n</table>\n<p>5 rows × 91 columns</p>\n</div>",
      "text/plain": "                   Neighborhood  Afghan Restaurant  American Restaurant  \\\n0                   The Beaches                  0                    0   \n1                   The Beaches                  0                    0   \n2                   The Beaches                  0                    0   \n3  The Danforth West, Riverdale                  0                    0   \n4  The Danforth West, Riverdale                  0                    0   \n\n   Arepa Restaurant  Argentinian Restaurant  Asian Restaurant  BBQ Joint  \\\n0                 0                       0                 0          0   \n1                 0                       0                 0          0   \n2                 0                       0                 1          0   \n3                 0                       0                 0          0   \n4                 0                       0                 0          0   \n\n   Bagel Shop  Bakery  Belgian Restaurant  ...  Steakhouse  Sushi Restaurant  \\\n0           0       0                   0  ...           0                 0   \n1           0       0                   0  ...           0                 0   \n2           0       0                   0  ...           0                 0   \n3           0       0                   0  ...           0                 0   \n4           0       0                   0  ...           0                 0   \n\n   Taco Place  Taiwanese Restaurant  Tapas Restaurant  Thai Restaurant  \\\n0           0                     0                 0                0   \n1           0                     0                 0                0   \n2           0                     0                 0                0   \n3           0                     0                 0                0   \n4           0                     0                 0                0   \n\n   Theme Restaurant  Vegetarian / Vegan Restaurant  Vietnamese Restaurant  \\\n0                 0                              0                      0   \n1                 0                              0                      0   \n2                 0                              0                      0   \n3                 0                              0                      0   \n4                 0                              0                      0   \n\n   Wings Joint  \n0            0  \n1            0  \n2            0  \n3            0  \n4            0  \n\n[5 rows x 91 columns]"
     },
     "execution_count": 12,
     "metadata": {},
     "output_type": "execute_result"
    }
   ],
   "source": [
    "toronto_onehot = pd.get_dummies(toronto_venues[['Venue Category']], prefix=\"\", prefix_sep=\"\")\n",
    "\n",
    "# add neighborhood column back to dataframe\n",
    "toronto_onehot['Neighborhood'] = toronto_venues['Neighborhood'] \n",
    "\n",
    "# move neighborhood column to the first column\n",
    "fixed_columns = [toronto_onehot.columns[-1]] + list(toronto_onehot.columns[:-1])\n",
    "toronto_onehot = toronto_onehot[fixed_columns]\n",
    "\n",
    "toronto_onehot.head()"
   ]
  },
  {
   "cell_type": "markdown",
   "execution_count": null,
   "metadata": {},
   "outputs": [],
   "source": [
    "Now we can calculate the mean of each category by neighborhood to have a better understanding of their popularity (the higher the mean, the higher the proportion of restaurants of that category in the neighborhood)."
   ]
  },
  {
   "cell_type": "code",
   "execution_count": 13,
   "metadata": {},
   "outputs": [
    {
     "data": {
      "text/html": "<div>\n<style scoped>\n    .dataframe tbody tr th:only-of-type {\n        vertical-align: middle;\n    }\n\n    .dataframe tbody tr th {\n        vertical-align: top;\n    }\n\n    .dataframe thead th {\n        text-align: right;\n    }\n</style>\n<table border=\"1\" class=\"dataframe\">\n  <thead>\n    <tr style=\"text-align: right;\">\n      <th></th>\n      <th>Neighborhood</th>\n      <th>Afghan Restaurant</th>\n      <th>American Restaurant</th>\n      <th>Arepa Restaurant</th>\n      <th>Argentinian Restaurant</th>\n      <th>Asian Restaurant</th>\n      <th>BBQ Joint</th>\n      <th>Bagel Shop</th>\n      <th>Bakery</th>\n      <th>Belgian Restaurant</th>\n      <th>...</th>\n      <th>Steakhouse</th>\n      <th>Sushi Restaurant</th>\n      <th>Taco Place</th>\n      <th>Taiwanese Restaurant</th>\n      <th>Tapas Restaurant</th>\n      <th>Thai Restaurant</th>\n      <th>Theme Restaurant</th>\n      <th>Vegetarian / Vegan Restaurant</th>\n      <th>Vietnamese Restaurant</th>\n      <th>Wings Joint</th>\n    </tr>\n  </thead>\n  <tbody>\n    <tr>\n      <th>0</th>\n      <td>Adelaide, King, Richmond</td>\n      <td>0.0</td>\n      <td>0.042105</td>\n      <td>0.0</td>\n      <td>0.0</td>\n      <td>0.063158</td>\n      <td>0.000000</td>\n      <td>0.010526</td>\n      <td>0.031579</td>\n      <td>0.000000</td>\n      <td>...</td>\n      <td>0.042105</td>\n      <td>0.031579</td>\n      <td>0.0</td>\n      <td>0.0</td>\n      <td>0.000000</td>\n      <td>0.042105</td>\n      <td>0.0</td>\n      <td>0.031579</td>\n      <td>0.000000</td>\n      <td>0.0</td>\n    </tr>\n    <tr>\n      <th>1</th>\n      <td>Berczy Park</td>\n      <td>0.0</td>\n      <td>0.019608</td>\n      <td>0.0</td>\n      <td>0.0</td>\n      <td>0.019608</td>\n      <td>0.019608</td>\n      <td>0.019608</td>\n      <td>0.078431</td>\n      <td>0.019608</td>\n      <td>...</td>\n      <td>0.058824</td>\n      <td>0.019608</td>\n      <td>0.0</td>\n      <td>0.0</td>\n      <td>0.019608</td>\n      <td>0.019608</td>\n      <td>0.0</td>\n      <td>0.039216</td>\n      <td>0.000000</td>\n      <td>0.0</td>\n    </tr>\n    <tr>\n      <th>2</th>\n      <td>Brockton, Exhibition Place, Parkdale Village</td>\n      <td>0.0</td>\n      <td>0.000000</td>\n      <td>0.0</td>\n      <td>0.0</td>\n      <td>0.000000</td>\n      <td>0.000000</td>\n      <td>0.000000</td>\n      <td>0.133333</td>\n      <td>0.000000</td>\n      <td>...</td>\n      <td>0.000000</td>\n      <td>0.000000</td>\n      <td>0.0</td>\n      <td>0.0</td>\n      <td>0.000000</td>\n      <td>0.000000</td>\n      <td>0.0</td>\n      <td>0.000000</td>\n      <td>0.066667</td>\n      <td>0.0</td>\n    </tr>\n    <tr>\n      <th>3</th>\n      <td>Business Reply Mail Processing Centre 969 Eastern</td>\n      <td>0.0</td>\n      <td>0.000000</td>\n      <td>0.0</td>\n      <td>0.0</td>\n      <td>0.000000</td>\n      <td>0.000000</td>\n      <td>0.000000</td>\n      <td>0.000000</td>\n      <td>0.000000</td>\n      <td>...</td>\n      <td>0.000000</td>\n      <td>0.000000</td>\n      <td>0.0</td>\n      <td>0.0</td>\n      <td>0.000000</td>\n      <td>0.000000</td>\n      <td>0.0</td>\n      <td>0.000000</td>\n      <td>0.000000</td>\n      <td>0.0</td>\n    </tr>\n    <tr>\n      <th>4</th>\n      <td>CN Tower, Bathurst Quay, Island airport, Harbo...</td>\n      <td>0.0</td>\n      <td>0.500000</td>\n      <td>0.0</td>\n      <td>0.0</td>\n      <td>0.000000</td>\n      <td>0.000000</td>\n      <td>0.000000</td>\n      <td>0.000000</td>\n      <td>0.000000</td>\n      <td>...</td>\n      <td>0.000000</td>\n      <td>0.000000</td>\n      <td>0.0</td>\n      <td>0.0</td>\n      <td>0.500000</td>\n      <td>0.000000</td>\n      <td>0.0</td>\n      <td>0.000000</td>\n      <td>0.000000</td>\n      <td>0.0</td>\n    </tr>\n  </tbody>\n</table>\n<p>5 rows × 91 columns</p>\n</div>",
      "text/plain": "                                        Neighborhood  Afghan Restaurant  \\\n0                           Adelaide, King, Richmond                0.0   \n1                                        Berczy Park                0.0   \n2       Brockton, Exhibition Place, Parkdale Village                0.0   \n3  Business Reply Mail Processing Centre 969 Eastern                0.0   \n4  CN Tower, Bathurst Quay, Island airport, Harbo...                0.0   \n\n   American Restaurant  Arepa Restaurant  Argentinian Restaurant  \\\n0             0.042105               0.0                     0.0   \n1             0.019608               0.0                     0.0   \n2             0.000000               0.0                     0.0   \n3             0.000000               0.0                     0.0   \n4             0.500000               0.0                     0.0   \n\n   Asian Restaurant  BBQ Joint  Bagel Shop    Bakery  Belgian Restaurant  ...  \\\n0          0.063158   0.000000    0.010526  0.031579            0.000000  ...   \n1          0.019608   0.019608    0.019608  0.078431            0.019608  ...   \n2          0.000000   0.000000    0.000000  0.133333            0.000000  ...   \n3          0.000000   0.000000    0.000000  0.000000            0.000000  ...   \n4          0.000000   0.000000    0.000000  0.000000            0.000000  ...   \n\n   Steakhouse  Sushi Restaurant  Taco Place  Taiwanese Restaurant  \\\n0    0.042105          0.031579         0.0                   0.0   \n1    0.058824          0.019608         0.0                   0.0   \n2    0.000000          0.000000         0.0                   0.0   \n3    0.000000          0.000000         0.0                   0.0   \n4    0.000000          0.000000         0.0                   0.0   \n\n   Tapas Restaurant  Thai Restaurant  Theme Restaurant  \\\n0          0.000000         0.042105               0.0   \n1          0.019608         0.019608               0.0   \n2          0.000000         0.000000               0.0   \n3          0.000000         0.000000               0.0   \n4          0.500000         0.000000               0.0   \n\n   Vegetarian / Vegan Restaurant  Vietnamese Restaurant  Wings Joint  \n0                       0.031579               0.000000          0.0  \n1                       0.039216               0.000000          0.0  \n2                       0.000000               0.066667          0.0  \n3                       0.000000               0.000000          0.0  \n4                       0.000000               0.000000          0.0  \n\n[5 rows x 91 columns]"
     },
     "execution_count": 13,
     "metadata": {},
     "output_type": "execute_result"
    }
   ],
   "source": [
    "toronto_grouped = toronto_onehot.groupby('Neighborhood').mean().reset_index()\n",
    "toronto_grouped.head()"
   ]
  },
  {
   "cell_type": "markdown",
   "execution_count": null,
   "metadata": {},
   "outputs": [],
   "source": [
    "However, there are too many columns now in the DataFrame and it's difficult to see the big picture. Let's extract the top 3 most popular venue categories per neighborhood and display them separately. Only take into account neighborhoods where the 3 most popular categories add to more than half of the proportion, to make sure they really stand out above the rest."
   ]
  },
  {
   "cell_type": "code",
   "execution_count": 28,
   "metadata": {},
   "outputs": [
    {
     "name": "stdout",
     "output_type": "stream",
     "text": "----Brockton, Exhibition Place, Parkdale Village----\n            venue  freq\n0            Café  0.27\n1          Bakery  0.13\n2  Breakfast Spot  0.13\n\n\n----Business Reply Mail Processing Centre 969 Eastern----\n                  venue  freq\n0  Fast Food Restaurant   0.4\n1           Pizza Place   0.2\n2            Restaurant   0.2\n\n\n----CN Tower, Bathurst Quay, Island airport, Harbourfront West, King and Spadina, Railway Lands, South Niagara----\n                      venue  freq\n0       American Restaurant   0.5\n1          Tapas Restaurant   0.5\n2  Mediterranean Restaurant   0.0\n\n\n----Christie----\n                 venue  freq\n0                 Café  0.38\n1  American Restaurant  0.12\n2  Japanese Restaurant  0.12\n\n\n----Davisville North----\n              venue  freq\n0       Pizza Place  0.25\n1  Asian Restaurant  0.25\n2    Sandwich Place  0.25\n\n\n----Dovercourt Village, Dufferin----\n                   venue  freq\n0            Pizza Place  0.25\n1                 Bakery  0.25\n2  Portuguese Restaurant  0.12\n\n\n----Forest Hill North, Forest Hill West----\n               venue  freq\n0         Restaurant  0.50\n1  French Restaurant  0.25\n2   Sushi Restaurant  0.25\n\n\n----Lawrence Park----\n                venue  freq\n0  Dim Sum Restaurant   1.0\n1          Poke Place   0.0\n2         Pizza Place   0.0\n\n\n----Moore Park, Summerhill East----\n                 venue  freq\n0           Restaurant   0.5\n1  Japanese Restaurant   0.5\n2    Afghan Restaurant   0.0\n\n\n----Queen's Park----\n                venue  freq\n0         Pizza Place   1.0\n1          Poke Place   0.0\n2  Persian Restaurant   0.0\n\n\n----Rosedale----\n                 venue  freq\n0  Japanese Restaurant   1.0\n1    Afghan Restaurant   0.0\n2   Mexican Restaurant   0.0\n\n\n----The Beaches----\n              venue  freq\n0      Burger Joint  0.33\n1       Pizza Place  0.33\n2  Asian Restaurant  0.33\n\n\n----The Danforth West, Riverdale----\n                venue  freq\n0    Greek Restaurant  0.36\n1    Sushi Restaurant  0.11\n2  Italian Restaurant  0.08\n\n\n"
    }
   ],
   "source": [
    "num_top_venues = 3\n",
    "\n",
    "for hood in toronto_grouped['Neighborhood']:\n",
    "    temp = toronto_grouped[toronto_grouped['Neighborhood'] == hood].T.reset_index()\n",
    "    temp.columns = ['venue','freq']\n",
    "    temp = temp.iloc[1:]\n",
    "    temp['freq'] = temp['freq'].astype(float)\n",
    "    temp = temp.round({'freq': 2})\n",
    "    temp = temp.sort_values('freq', ascending=False).reset_index(drop=True).head(num_top_venues)\n",
    "    if temp['freq'].sum() > 0.5:\n",
    "        print(\"----\"+hood+\"----\")\n",
    "        print(temp)\n",
    "        print('\\n')"
   ]
  },
  {
   "cell_type": "markdown",
   "execution_count": null,
   "metadata": {},
   "outputs": [],
   "source": [
    "Seeing the most common venues of each neighborhood at a glance is quite convenient. Let's create a DataFrame with this information."
   ]
  },
  {
   "cell_type": "code",
   "execution_count": 20,
   "metadata": {},
   "outputs": [
    {
     "data": {
      "text/html": "<div>\n<style scoped>\n    .dataframe tbody tr th:only-of-type {\n        vertical-align: middle;\n    }\n\n    .dataframe tbody tr th {\n        vertical-align: top;\n    }\n\n    .dataframe thead th {\n        text-align: right;\n    }\n</style>\n<table border=\"1\" class=\"dataframe\">\n  <thead>\n    <tr style=\"text-align: right;\">\n      <th></th>\n      <th>Neighborhood</th>\n      <th>1st Most Common Venue</th>\n      <th>2nd Most Common Venue</th>\n      <th>3rd Most Common Venue</th>\n      <th>4th Most Common Venue</th>\n      <th>5th Most Common Venue</th>\n      <th>6th Most Common Venue</th>\n      <th>7th Most Common Venue</th>\n      <th>8th Most Common Venue</th>\n      <th>9th Most Common Venue</th>\n      <th>10th Most Common Venue</th>\n    </tr>\n  </thead>\n  <tbody>\n    <tr>\n      <th>0</th>\n      <td>Adelaide, King, Richmond</td>\n      <td>Café</td>\n      <td>Restaurant</td>\n      <td>Sandwich Place</td>\n      <td>Asian Restaurant</td>\n      <td>Salad Place</td>\n      <td>American Restaurant</td>\n      <td>Thai Restaurant</td>\n      <td>Burger Joint</td>\n      <td>Steakhouse</td>\n      <td>Deli / Bodega</td>\n    </tr>\n    <tr>\n      <th>1</th>\n      <td>Berczy Park</td>\n      <td>Italian Restaurant</td>\n      <td>Bakery</td>\n      <td>Sandwich Place</td>\n      <td>Steakhouse</td>\n      <td>Diner</td>\n      <td>Moroccan Restaurant</td>\n      <td>Café</td>\n      <td>French Restaurant</td>\n      <td>Bistro</td>\n      <td>Restaurant</td>\n    </tr>\n    <tr>\n      <th>2</th>\n      <td>Brockton, Exhibition Place, Parkdale Village</td>\n      <td>Café</td>\n      <td>Breakfast Spot</td>\n      <td>Bakery</td>\n      <td>Vietnamese Restaurant</td>\n      <td>Pizza Place</td>\n      <td>Restaurant</td>\n      <td>Italian Restaurant</td>\n      <td>Japanese Restaurant</td>\n      <td>Burrito Place</td>\n      <td>Sandwich Place</td>\n    </tr>\n    <tr>\n      <th>3</th>\n      <td>Business Reply Mail Processing Centre 969 Eastern</td>\n      <td>Fast Food Restaurant</td>\n      <td>Pizza Place</td>\n      <td>Restaurant</td>\n      <td>Burrito Place</td>\n      <td>Empanada Restaurant</td>\n      <td>Deli / Bodega</td>\n      <td>Dim Sum Restaurant</td>\n      <td>Diner</td>\n      <td>Doner Restaurant</td>\n      <td>Donut Shop</td>\n    </tr>\n    <tr>\n      <th>4</th>\n      <td>CN Tower, Bathurst Quay, Island airport, Harbo...</td>\n      <td>American Restaurant</td>\n      <td>Tapas Restaurant</td>\n      <td>Wings Joint</td>\n      <td>Falafel Restaurant</td>\n      <td>Dim Sum Restaurant</td>\n      <td>Diner</td>\n      <td>Doner Restaurant</td>\n      <td>Donut Shop</td>\n      <td>Dumpling Restaurant</td>\n      <td>Eastern European Restaurant</td>\n    </tr>\n  </tbody>\n</table>\n</div>",
      "text/plain": "                                        Neighborhood 1st Most Common Venue  \\\n0                           Adelaide, King, Richmond                  Café   \n1                                        Berczy Park    Italian Restaurant   \n2       Brockton, Exhibition Place, Parkdale Village                  Café   \n3  Business Reply Mail Processing Centre 969 Eastern  Fast Food Restaurant   \n4  CN Tower, Bathurst Quay, Island airport, Harbo...   American Restaurant   \n\n  2nd Most Common Venue 3rd Most Common Venue  4th Most Common Venue  \\\n0            Restaurant        Sandwich Place       Asian Restaurant   \n1                Bakery        Sandwich Place             Steakhouse   \n2        Breakfast Spot                Bakery  Vietnamese Restaurant   \n3           Pizza Place            Restaurant          Burrito Place   \n4      Tapas Restaurant           Wings Joint     Falafel Restaurant   \n\n  5th Most Common Venue 6th Most Common Venue 7th Most Common Venue  \\\n0           Salad Place   American Restaurant       Thai Restaurant   \n1                 Diner   Moroccan Restaurant                  Café   \n2           Pizza Place            Restaurant    Italian Restaurant   \n3   Empanada Restaurant         Deli / Bodega    Dim Sum Restaurant   \n4    Dim Sum Restaurant                 Diner      Doner Restaurant   \n\n  8th Most Common Venue 9th Most Common Venue       10th Most Common Venue  \n0          Burger Joint            Steakhouse                Deli / Bodega  \n1     French Restaurant                Bistro                   Restaurant  \n2   Japanese Restaurant         Burrito Place               Sandwich Place  \n3                 Diner      Doner Restaurant                   Donut Shop  \n4            Donut Shop   Dumpling Restaurant  Eastern European Restaurant  "
     },
     "execution_count": 20,
     "metadata": {},
     "output_type": "execute_result"
    }
   ],
   "source": [
    "import numpy as np\n",
    "\n",
    "def return_most_common_venues(row, num_top_venues):\n",
    "    row_categories = row.iloc[1:]\n",
    "    row_categories_sorted = row_categories.sort_values(ascending=False)    \n",
    "    return row_categories_sorted.index.values[0:num_top_venues]\n",
    "\n",
    "num_top_venues = 10\n",
    "\n",
    "# create columns according to number of top venues\n",
    "columns = ['Neighborhood']\n",
    "for ind in np.arange(num_top_venues):\n",
    "    suffix = 'th'\n",
    "    if ind == 0: suffix = 'st'\n",
    "    elif ind == 1: suffix = 'nd'\n",
    "    elif ind == 2: suffix = 'rd'\n",
    "    columns.append('{}{} Most Common Venue'.format(ind+1, suffix))\n",
    "\n",
    "# create a new dataframe\n",
    "neighborhoods_venues_sorted = pd.DataFrame(columns=columns)\n",
    "neighborhoods_venues_sorted['Neighborhood'] = toronto_grouped['Neighborhood']\n",
    "\n",
    "for ind in np.arange(toronto_grouped.shape[0]):\n",
    "    neighborhoods_venues_sorted.iloc[ind, 1:] = return_most_common_venues(toronto_grouped.iloc[ind, :], num_top_venues)\n",
    "\n",
    "neighborhoods_venues_sorted.head()"
   ]
  },
  {
   "cell_type": "markdown",
   "execution_count": null,
   "metadata": {},
   "outputs": [],
   "source": [
    "Now let's group the neighborhoods into clusters based on the categories of venues most frequent in each. For that we'll use the simple and effective k-means algorithm which is already implemented in the sklearn package."
   ]
  },
  {
   "cell_type": "code",
   "execution_count": 21,
   "metadata": {},
   "outputs": [
    {
     "data": {
      "text/html": "<div>\n<style scoped>\n    .dataframe tbody tr th:only-of-type {\n        vertical-align: middle;\n    }\n\n    .dataframe tbody tr th {\n        vertical-align: top;\n    }\n\n    .dataframe thead th {\n        text-align: right;\n    }\n</style>\n<table border=\"1\" class=\"dataframe\">\n  <thead>\n    <tr style=\"text-align: right;\">\n      <th></th>\n      <th>Postcode</th>\n      <th>Borough</th>\n      <th>Neighborhood</th>\n      <th>Latitude</th>\n      <th>Longitude</th>\n      <th>Cluster Labels</th>\n      <th>1st Most Common Venue</th>\n      <th>2nd Most Common Venue</th>\n      <th>3rd Most Common Venue</th>\n      <th>4th Most Common Venue</th>\n      <th>5th Most Common Venue</th>\n      <th>6th Most Common Venue</th>\n      <th>7th Most Common Venue</th>\n      <th>8th Most Common Venue</th>\n      <th>9th Most Common Venue</th>\n      <th>10th Most Common Venue</th>\n    </tr>\n  </thead>\n  <tbody>\n    <tr>\n      <th>0</th>\n      <td>M4E</td>\n      <td>East Toronto</td>\n      <td>The Beaches</td>\n      <td>43.676357</td>\n      <td>-79.293031</td>\n      <td>1.0</td>\n      <td>Pizza Place</td>\n      <td>Burger Joint</td>\n      <td>Asian Restaurant</td>\n      <td>Deli / Bodega</td>\n      <td>Dim Sum Restaurant</td>\n      <td>Diner</td>\n      <td>Doner Restaurant</td>\n      <td>Donut Shop</td>\n      <td>Dumpling Restaurant</td>\n      <td>Eastern European Restaurant</td>\n    </tr>\n    <tr>\n      <th>1</th>\n      <td>M4K</td>\n      <td>East Toronto</td>\n      <td>The Danforth West, Riverdale</td>\n      <td>43.679557</td>\n      <td>-79.352188</td>\n      <td>1.0</td>\n      <td>Greek Restaurant</td>\n      <td>Sushi Restaurant</td>\n      <td>Italian Restaurant</td>\n      <td>Pizza Place</td>\n      <td>Restaurant</td>\n      <td>Breakfast Spot</td>\n      <td>Fried Chicken Joint</td>\n      <td>Caribbean Restaurant</td>\n      <td>Café</td>\n      <td>Japanese Restaurant</td>\n    </tr>\n    <tr>\n      <th>2</th>\n      <td>M4L</td>\n      <td>East Toronto</td>\n      <td>The Beaches West, India Bazaar</td>\n      <td>43.668999</td>\n      <td>-79.315572</td>\n      <td>1.0</td>\n      <td>Pizza Place</td>\n      <td>Sandwich Place</td>\n      <td>Burger Joint</td>\n      <td>Fish &amp; Chips Shop</td>\n      <td>Sushi Restaurant</td>\n      <td>Steakhouse</td>\n      <td>Italian Restaurant</td>\n      <td>Fast Food Restaurant</td>\n      <td>Burrito Place</td>\n      <td>Deli / Bodega</td>\n    </tr>\n    <tr>\n      <th>3</th>\n      <td>M4M</td>\n      <td>East Toronto</td>\n      <td>Studio District</td>\n      <td>43.659526</td>\n      <td>-79.340923</td>\n      <td>1.0</td>\n      <td>Café</td>\n      <td>Bakery</td>\n      <td>Gastropub</td>\n      <td>American Restaurant</td>\n      <td>Comfort Food Restaurant</td>\n      <td>Pizza Place</td>\n      <td>Italian Restaurant</td>\n      <td>Sandwich Place</td>\n      <td>Middle Eastern Restaurant</td>\n      <td>Diner</td>\n    </tr>\n    <tr>\n      <th>4</th>\n      <td>M4N</td>\n      <td>Central Toronto</td>\n      <td>Lawrence Park</td>\n      <td>43.728020</td>\n      <td>-79.388790</td>\n      <td>2.0</td>\n      <td>Dim Sum Restaurant</td>\n      <td>Wings Joint</td>\n      <td>Cuban Restaurant</td>\n      <td>Diner</td>\n      <td>Doner Restaurant</td>\n      <td>Donut Shop</td>\n      <td>Dumpling Restaurant</td>\n      <td>Eastern European Restaurant</td>\n      <td>Empanada Restaurant</td>\n      <td>Ethiopian Restaurant</td>\n    </tr>\n  </tbody>\n</table>\n</div>",
      "text/plain": "  Postcode          Borough                    Neighborhood   Latitude  \\\n0      M4E     East Toronto                     The Beaches  43.676357   \n1      M4K     East Toronto    The Danforth West, Riverdale  43.679557   \n2      M4L     East Toronto  The Beaches West, India Bazaar  43.668999   \n3      M4M     East Toronto                 Studio District  43.659526   \n4      M4N  Central Toronto                   Lawrence Park  43.728020   \n\n   Longitude  Cluster Labels 1st Most Common Venue 2nd Most Common Venue  \\\n0 -79.293031             1.0           Pizza Place          Burger Joint   \n1 -79.352188             1.0      Greek Restaurant      Sushi Restaurant   \n2 -79.315572             1.0           Pizza Place        Sandwich Place   \n3 -79.340923             1.0                  Café                Bakery   \n4 -79.388790             2.0    Dim Sum Restaurant           Wings Joint   \n\n  3rd Most Common Venue 4th Most Common Venue    5th Most Common Venue  \\\n0      Asian Restaurant         Deli / Bodega       Dim Sum Restaurant   \n1    Italian Restaurant           Pizza Place               Restaurant   \n2          Burger Joint     Fish & Chips Shop         Sushi Restaurant   \n3             Gastropub   American Restaurant  Comfort Food Restaurant   \n4      Cuban Restaurant                 Diner         Doner Restaurant   \n\n  6th Most Common Venue 7th Most Common Venue        8th Most Common Venue  \\\n0                 Diner      Doner Restaurant                   Donut Shop   \n1        Breakfast Spot   Fried Chicken Joint         Caribbean Restaurant   \n2            Steakhouse    Italian Restaurant         Fast Food Restaurant   \n3           Pizza Place    Italian Restaurant               Sandwich Place   \n4            Donut Shop   Dumpling Restaurant  Eastern European Restaurant   \n\n       9th Most Common Venue       10th Most Common Venue  \n0        Dumpling Restaurant  Eastern European Restaurant  \n1                       Café          Japanese Restaurant  \n2              Burrito Place                Deli / Bodega  \n3  Middle Eastern Restaurant                        Diner  \n4        Empanada Restaurant         Ethiopian Restaurant  "
     },
     "execution_count": 21,
     "metadata": {},
     "output_type": "execute_result"
    }
   ],
   "source": [
    "from sklearn.cluster import KMeans\n",
    "\n",
    "# We set manually the number of clusters\n",
    "# This can be changed to refine the results\n",
    "kclusters = 5\n",
    "\n",
    "toronto_grouped_clustering = toronto_grouped.drop('Neighborhood', 1)\n",
    "\n",
    "kmeans = KMeans(n_clusters=kclusters, random_state=0).fit(toronto_grouped_clustering)\n",
    "\n",
    "# add clustering labels\n",
    "neighborhoods_venues_sorted.insert(0, 'Cluster Labels', kmeans.labels_)\n",
    "\n",
    "# merge toronto_grouped with toronto_data to add latitude/longitude for each neighborhood\n",
    "toronto_merged = toronto_data.join(neighborhoods_venues_sorted.set_index('Neighborhood'), on='Neighborhood')\n",
    "\n",
    "toronto_merged.head()\n"
   ]
  },
  {
   "cell_type": "markdown",
   "execution_count": null,
   "metadata": {},
   "outputs": [],
   "source": [
    "It's much easier to visualize the clusters using a map. Thanks to Folium we can finish the notebook with a nice display of Toronto neighborhoods clustered by restaurant category."
   ]
  },
  {
   "cell_type": "code",
   "execution_count": 22,
   "metadata": {},
   "outputs": [
    {
     "data": {
      "text/html": "<div style=\"width:100%;\"><div style=\"position:relative;width:100%;height:0;padding-bottom:60%;\"><iframe src=\"data:text/html;charset=utf-8;base64,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\" style=\"position:absolute;width:100%;height:100%;left:0;top:0;border:none !important;\" allowfullscreen webkitallowfullscreen mozallowfullscreen></iframe></div></div>",
      "text/plain": "<folium.folium.Map at 0x7f3070c3e7b8>"
     },
     "execution_count": 22,
     "metadata": {},
     "output_type": "execute_result"
    }
   ],
   "source": [
    "import folium\n",
    "import matplotlib.cm as cm\n",
    "import matplotlib.colors as colors\n",
    "\n",
    "map_clusters = folium.Map(location=[43.6231216, -79.4108748], zoom_start=12)\n",
    "\n",
    "# set color scheme for the clusters\n",
    "x = np.arange(kclusters)\n",
    "ys = [i + x + (i*x)**2 for i in range(kclusters)]\n",
    "colors_array = cm.rainbow(np.linspace(0, 1, len(ys)))\n",
    "rainbow = [colors.rgb2hex(i) for i in colors_array]\n",
    "\n",
    "# add markers to the map\n",
    "markers_colors = []\n",
    "for lat, lon, poi, cluster in zip(toronto_merged['Latitude'], toronto_merged['Longitude'], toronto_merged['Neighborhood'], toronto_merged['Cluster Labels']):\n",
    "    # ignore neighborhoods that miss venue info\n",
    "    if not np.isnan(cluster):\n",
    "        cluster = int(cluster)\n",
    "        label = folium.Popup(str(poi) + ' Cluster ' + str(cluster), parse_html=True)\n",
    "        folium.CircleMarker(\n",
    "            [lat, lon],\n",
    "            radius=5,\n",
    "            popup=label,\n",
    "            color=rainbow[cluster-1],\n",
    "            fill=True,\n",
    "            fill_color=rainbow[cluster-1],\n",
    "            fill_opacity=0.7).add_to(map_clusters)\n",
    "       \n",
    "map_clusters"
   ]
  },
  {
   "cell_type": "code",
   "execution_count": null,
   "metadata": {},
   "outputs": [],
   "source": []
  }
 ]
}